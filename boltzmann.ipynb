{
 "cells": [
  {
   "cell_type": "code",
   "execution_count": 3,
   "id": "f941b29b-673f-4bfc-9c99-823ae1b6b2b6",
   "metadata": {},
   "outputs": [],
   "source": [
    "import numpy as np\n",
    "import pandas as pd\n",
    "import torch\n",
    "import torch.nn as nn\n",
    "import torch.nn.parallel\n",
    "import torch.optim as optim\n",
    "import torch.utils.data\n",
    "from torch.autograd import Variable"
   ]
  },
  {
   "cell_type": "code",
   "execution_count": 4,
   "id": "fd20ae53-bb08-4e96-b94b-a9a8c7d54500",
   "metadata": {},
   "outputs": [],
   "source": [
    "\"\"\"## Importing the dataset\"\"\"\n",
    "\n",
    "# We won't be using this dataset.\n",
    "movies = pd.read_csv('dataset/boltzmann/ml-1m/movies.dat', sep = '::', header = None, engine = 'python', encoding = 'latin-1')\n",
    "users = pd.read_csv('dataset/boltzmann/ml-1m/users.dat', sep = '::', header = None, engine = 'python', encoding = 'latin-1')\n",
    "ratings = pd.read_csv('dataset/boltzmann/ml-1m/ratings.dat', sep = '::', header = None, engine = 'python', encoding = 'latin-1')"
   ]
  },
  {
   "cell_type": "code",
   "execution_count": 5,
   "id": "67e65681-de98-4fe1-9868-007eb2ef91b7",
   "metadata": {},
   "outputs": [],
   "source": [
    "training_set = pd.read_csv('dataset/boltzmann/ml-100k/u1.base', delimiter = '\\t')\n",
    "training_set = np.array(training_set, dtype = 'int')\n",
    "test_set = pd.read_csv('dataset/boltzmann/ml-100k/u1.test', delimiter = '\\t')\n",
    "test_set = np.array(test_set, dtype = 'int')\n"
   ]
  },
  {
   "cell_type": "code",
   "execution_count": 6,
   "id": "aa01c613-6692-4ad8-930b-71d86dbb8b07",
   "metadata": {},
   "outputs": [],
   "source": [
    "nb_users = int(max(max(training_set[:, 0], ), max(test_set[:, 0])))\n",
    "nb_movies = int(max(max(training_set[:, 1], ), max(test_set[:, 1])))"
   ]
  },
  {
   "cell_type": "code",
   "execution_count": 7,
   "id": "71e5086d-137f-4b7b-8d7d-c7ef5ac4af7f",
   "metadata": {},
   "outputs": [],
   "source": [
    "\"\"\"## Converting the data into an array with users in lines and movies in columns\"\"\"\n",
    "\n",
    "def convert(data):\n",
    "  new_data = []\n",
    "  for id_users in range(1, nb_users + 1):\n",
    "    id_movies = data[:, 1] [data[:, 0] == id_users]\n",
    "    id_ratings = data[:, 2] [data[:, 0] == id_users]\n",
    "    ratings = np.zeros(nb_movies)\n",
    "    ratings[id_movies - 1] = id_ratings\n",
    "    new_data.append(list(ratings))\n",
    "  return new_data\n"
   ]
  },
  {
   "cell_type": "code",
   "execution_count": 8,
   "id": "f578d131-0f9e-4444-a2b0-a6bdce71fa95",
   "metadata": {},
   "outputs": [],
   "source": [
    "training_set = convert(training_set)\n",
    "test_set = convert(test_set)"
   ]
  },
  {
   "cell_type": "code",
   "execution_count": 9,
   "id": "56383178-e3e6-4324-b8c2-af2162e9eb6f",
   "metadata": {},
   "outputs": [],
   "source": [
    "\"\"\"## Converting the data into Torch tensors\"\"\"\n",
    "\n",
    "training_set = torch.FloatTensor(training_set)\n",
    "test_set = torch.FloatTensor(test_set)"
   ]
  },
  {
   "cell_type": "code",
   "execution_count": 10,
   "id": "dd82f1b7-eb56-4071-b13b-ab82ff81598a",
   "metadata": {},
   "outputs": [],
   "source": [
    "\"\"\"## Converting the ratings into binary ratings 1 (Liked) or 0 (Not Liked)\"\"\"\n",
    "\n",
    "training_set[training_set == 0] = -1\n",
    "training_set[training_set == 1] = 0\n",
    "training_set[training_set == 2] = 0\n",
    "training_set[training_set >= 3] = 1\n",
    "test_set[test_set == 0] = -1\n",
    "test_set[test_set == 1] = 0\n",
    "test_set[test_set == 2] = 0\n",
    "test_set[test_set >= 3] = 1"
   ]
  },
  {
   "cell_type": "code",
   "execution_count": 11,
   "id": "22458b03-24f6-4441-8f04-3fdc55a27b57",
   "metadata": {},
   "outputs": [],
   "source": [
    "class RBM():\n",
    "  def __init__(self, nv, nh):\n",
    "    self.W = torch.randn(nh, nv)\n",
    "    self.a = torch.randn(1, nh)\n",
    "    self.b = torch.randn(1, nv)\n",
    "  def sample_h(self, x):\n",
    "    wx = torch.mm(x, self.W.t())\n",
    "    activation = wx + self.a.expand_as(wx)\n",
    "    p_h_given_v = torch.sigmoid(activation)\n",
    "    return p_h_given_v, torch.bernoulli(p_h_given_v)\n",
    "  def sample_v(self, y):\n",
    "    wy = torch.mm(y, self.W)\n",
    "    activation = wy + self.b.expand_as(wy)\n",
    "    p_v_given_h = torch.sigmoid(activation)\n",
    "    return p_v_given_h, torch.bernoulli(p_v_given_h)\n",
    "  def train(self, v0, vk, ph0, phk):\n",
    "    self.W += (torch.mm(v0.t(), ph0) - torch.mm(vk.t(), phk)).t()\n",
    "    self.b += torch.sum((v0 - vk), 0)\n",
    "    self.a += torch.sum((ph0 - phk), 0)"
   ]
  },
  {
   "cell_type": "code",
   "execution_count": 12,
   "id": "feea7203-2b32-465c-850d-301c73c2633f",
   "metadata": {},
   "outputs": [],
   "source": [
    "nv = len(training_set[0])\n",
    "nh = 100\n",
    "batch_size = 100\n",
    "rbm = RBM(nv, nh)"
   ]
  },
  {
   "cell_type": "code",
   "execution_count": 13,
   "id": "ca123f99-e1b5-4f89-9e4b-c542fa27aaef",
   "metadata": {},
   "outputs": [
    {
     "name": "stdout",
     "output_type": "stream",
     "text": [
      "epoch: 1 loss: tensor(0.3386)\n",
      "epoch: 2 loss: tensor(0.2528)\n",
      "epoch: 3 loss: tensor(0.2487)\n",
      "epoch: 4 loss: tensor(0.2496)\n",
      "epoch: 5 loss: tensor(0.2475)\n",
      "epoch: 6 loss: tensor(0.2444)\n",
      "epoch: 7 loss: tensor(0.2519)\n",
      "epoch: 8 loss: tensor(0.2466)\n",
      "epoch: 9 loss: tensor(0.2467)\n",
      "epoch: 10 loss: tensor(0.2499)\n"
     ]
    }
   ],
   "source": [
    "\"\"\"## Training the RBM\"\"\"\n",
    "\n",
    "nb_epoch = 10\n",
    "for epoch in range(1, nb_epoch + 1):\n",
    "  train_loss = 0\n",
    "  s = 0.\n",
    "  for id_user in range(0, nb_users - batch_size, batch_size):\n",
    "    vk = training_set[id_user : id_user + batch_size]\n",
    "    v0 = training_set[id_user : id_user + batch_size]\n",
    "    ph0,_ = rbm.sample_h(v0)\n",
    "    for k in range(10):\n",
    "      _,hk = rbm.sample_h(vk)\n",
    "      _,vk = rbm.sample_v(hk)\n",
    "      vk[v0<0] = v0[v0<0]\n",
    "    phk,_ = rbm.sample_h(vk)\n",
    "    rbm.train(v0, vk, ph0, phk)\n",
    "    train_loss += torch.mean(torch.abs(v0[v0 >= 0] - vk[v0 >= 0]))\n",
    "    s += 1.\n",
    "  print('epoch: '+str(epoch)+' loss: '+str(train_loss/s))"
   ]
  },
  {
   "cell_type": "code",
   "execution_count": 14,
   "id": "3221a70a-70c6-41e8-a402-2ba7e1d3d07f",
   "metadata": {},
   "outputs": [
    {
     "name": "stdout",
     "output_type": "stream",
     "text": [
      "test loss: tensor(0.2530)\n"
     ]
    }
   ],
   "source": [
    "\"\"\"## Testing the RBM\"\"\"\n",
    "\n",
    "test_loss = 0\n",
    "s = 0.\n",
    "for id_user in range(nb_users):\n",
    "    v = training_set[id_user:id_user+1]\n",
    "    vt = test_set[id_user:id_user+1]\n",
    "    if len(vt[vt>=0]) > 0:\n",
    "        _,h = rbm.sample_h(v)\n",
    "        _,v = rbm.sample_v(h)\n",
    "        test_loss += torch.mean(torch.abs(vt[vt>=0] - v[vt>=0]))\n",
    "        s += 1.\n",
    "print('test loss: '+str(test_loss/s))"
   ]
  }
 ],
 "metadata": {
  "kernelspec": {
   "display_name": "Python 3 (ipykernel)",
   "language": "python",
   "name": "python3"
  },
  "language_info": {
   "codemirror_mode": {
    "name": "ipython",
    "version": 3
   },
   "file_extension": ".py",
   "mimetype": "text/x-python",
   "name": "python",
   "nbconvert_exporter": "python",
   "pygments_lexer": "ipython3",
   "version": "3.10.12"
  }
 },
 "nbformat": 4,
 "nbformat_minor": 5
}
